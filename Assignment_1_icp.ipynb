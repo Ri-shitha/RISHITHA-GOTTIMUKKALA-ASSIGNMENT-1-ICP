{
  "nbformat": 4,
  "nbformat_minor": 0,
  "metadata": {
    "colab": {
      "provenance": []
    },
    "kernelspec": {
      "name": "python3",
      "display_name": "Python 3"
    },
    "language_info": {
      "name": "python"
    }
  },
  "cells": [
    {
      "cell_type": "code",
      "execution_count": 1,
      "metadata": {
        "colab": {
          "base_uri": "https://localhost:8080/"
        },
        "id": "svIXqsrDGnnm",
        "outputId": "239815b8-aca3-4c21-c52d-6a1021e7ada6"
      },
      "outputs": [
        {
          "output_type": "stream",
          "name": "stdout",
          "text": [
            "Enter a string: python\n",
            "Modified and reversed string: htyp\n"
          ]
        }
      ],
      "source": [
        "# Task 1: Manipulating Strings\n",
        "input_string = input(\"Enter a string: \")  # Input the string\n",
        "char_list = list(input_string)  # Convert the string to a list of characters\n",
        "\n",
        "if len(char_list) >= 2:  # Ensure there are at least 2 characters to delete\n",
        "    del char_list[-2:]  # Delete the last two characters\n",
        "    char_list.reverse()  # Reverse the list\n",
        "    result = ''.join(char_list)  # Convert the list back to a string\n",
        "    print(\"Modified and reversed string:\", result)\n",
        "else:\n",
        "    print(\"String must have at least 2 characters to perform the operation.\")\n",
        "\n"
      ]
    },
    {
      "cell_type": "code",
      "source": [
        "# Task 2: Arithmetic Operations\n",
        "num1 = float(input(\"Enter the first number: \"))\n",
        "num2 = float(input(\"Enter the second number: \"))\n",
        "\n",
        "# Perform arithmetic operations\n",
        "addition = num1 + num2\n",
        "subtraction = num1 - num2\n",
        "multiplication = num1 * num2\n",
        "\n",
        "# Check if num2 is not 0 to avoid division by zero\n",
        "if num2 != 0:\n",
        "    division = num1 / num2\n",
        "else:\n",
        "    division = \"Undefined (division by zero)\"\n",
        "\n",
        "print(\"Arithmetic Operations:\")\n",
        "print(\"Addition:\", addition)\n",
        "print(\"Subtraction:\", subtraction)\n",
        "print(\"Multiplication:\", multiplication)\n",
        "print(\"Division:\", division)"
      ],
      "metadata": {
        "colab": {
          "base_uri": "https://localhost:8080/"
        },
        "id": "1RIk8XobH7gq",
        "outputId": "5e1a0e0f-5d37-476b-92a4-2ff0d2feee17"
      },
      "execution_count": 2,
      "outputs": [
        {
          "output_type": "stream",
          "name": "stdout",
          "text": [
            "Enter the first number: 1\n",
            "Enter the second number: 2\n",
            "Arithmetic Operations:\n",
            "Addition: 3.0\n",
            "Subtraction: -1.0\n",
            "Multiplication: 2.0\n",
            "Division: 0.5\n"
          ]
        }
      ]
    },
    {
      "cell_type": "code",
      "source": [
        "def replace_python(sentence):\n",
        "    replaced_sentence = sentence.replace(\"python\", \"pythons\")\n",
        "    return replaced_sentence\n",
        "\n",
        "input_sentence = input(\"Enter a sentence: \")\n",
        "modified_sentence = replace_python(input_sentence)\n",
        "print(\"Modified sentence:\", modified_sentence)\n"
      ],
      "metadata": {
        "colab": {
          "base_uri": "https://localhost:8080/"
        },
        "id": "LHm4EylBICa2",
        "outputId": "663d135e-7293-4c80-d6e4-1f246d90f6c1"
      },
      "execution_count": 3,
      "outputs": [
        {
          "output_type": "stream",
          "name": "stdout",
          "text": [
            "Enter a sentence: i like python\n",
            "Modified sentence: i like pythons\n"
          ]
        }
      ]
    },
    {
      "cell_type": "code",
      "source": [
        "def calculate_class_grade(score):\n",
        "    if score >= 90:\n",
        "        return \"A\"\n",
        "    elif score >= 80:\n",
        "        return \"B\"\n",
        "    elif score >= 70:\n",
        "        return \"C\"\n",
        "    elif score >= 60:\n",
        "        return \"D\"\n",
        "    else:\n",
        "        return \"F\"\n",
        "\n",
        "# Get input class score from the user\n",
        "try:\n",
        "    class_score = float(input(\"Enter the class score: \"))\n",
        "    if 0 <= class_score <= 100:\n",
        "        letter_grade = calculate_class_grade(class_score)\n",
        "        print(\"The letter grade for the score {:.2f} is: {}\".format(class_score, letter_grade))\n",
        "    else:\n",
        "        print(\"Invalid score. Please enter a score between 0 and 100.\")\n",
        "except ValueError:\n",
        "    print(\"Invalid input. Please enter a valid number.\")\n"
      ],
      "metadata": {
        "colab": {
          "base_uri": "https://localhost:8080/"
        },
        "id": "SWh5mLwVINrM",
        "outputId": "1b7c2878-d8e8-43d8-db32-1efb57389842"
      },
      "execution_count": 4,
      "outputs": [
        {
          "output_type": "stream",
          "name": "stdout",
          "text": [
            "Enter the class score: 90\n",
            "The letter grade for the score 90.00 is: A\n"
          ]
        }
      ]
    }
  ]
}